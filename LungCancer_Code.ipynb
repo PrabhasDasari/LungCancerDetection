{
  "cells": [
    {
      "cell_type": "code",
      "execution_count": null,
      "metadata": {
        "id": "2GI-tC9kVd5H"
      },
      "outputs": [],
      "source": [
        "# Part 1: Importing libraries\n",
        "import numpy as np\n",
        "import seaborn as sns\n",
        "import matplotlib.pyplot as plt\n",
        "import keras.utils\n",
        "import os\n",
        "import pandas as pd\n",
        "from sklearn.model_selection import train_test_split\n",
        "%matplotlib inline"
      ]
    },
    {
      "cell_type": "code",
      "execution_count": null,
      "metadata": {
        "id": "6QYZl0hOVuYx"
      },
      "outputs": [],
      "source": [
        "# Part 2: Importing TensorFlow and ImageDataGenerator\n",
        "import tensorflow as tf\n",
        "from keras.preprocessing.image import ImageDataGenerator"
      ]
    },
    {
      "cell_type": "code",
      "execution_count": null,
      "metadata": {
        "id": "AgfTR76xVv1x"
      },
      "outputs": [],
      "source": [
        "# Part 3: Defining image size and folder path\n",
        "picture_size = 224\n",
        "from google.colab import drive\n",
        "drive.mount('/content/drive')\n",
        "folder_path = '/content/drive/MyDrive/lung'"
      ]
    },
    {
      "cell_type": "code",
      "execution_count": null,
      "metadata": {
        "colab": {
          "base_uri": "https://localhost:8080/"
        },
        "id": "U0QT_022V9D6",
        "outputId": "3ffc2152-ade2-432d-c385-898ae5be5aa3"
      },
      "outputs": [
        {
          "name": "stdout",
          "output_type": "stream",
          "text": [
            "Found 1875 images belonging to 3 classes.\n"
          ]
        }
      ],
      "source": [
        "# Part 4: Setting batch size and creating data generators\n",
        "batch_size = 128\n",
        "datagen_train = ImageDataGenerator()\n",
        "datagen_val = ImageDataGenerator()\n",
        "datagen_test = ImageDataGenerator()\n",
        "train_set = datagen_train.flow_from_directory(folder_path+\"/Train\",\n",
        " target_size=(picture_size, picture_size),\n",
        " color_mode=\"rgb\",\n",
        " batch_size=batch_size,\n",
        " class_mode='categorical',\n",
        " shuffle=True)\n",
        "test_set = datagen_test.flow_from_directory(folder_path+\"/Test\",\n",
        " target_size=(picture_size, picture_size),\n",
        " color_mode=\"rgb\",\n",
        " batch_size=batch_size,\n",
        " class_mode='categorical',\n",
        " shuffle=False)\n",
        "val_set = datagen_val.flow_from_directory(folder_path+\"/Val\",\n",
        " target_size=(picture_size, picture_size),\n",
        " color_mode=\"rgb\",\n",
        " batch_size=batch_size,\n",
        " class_mode='categorical',\n",
        " shuffle=False)"
      ]
    },
    {
      "cell_type": "code",
      "source": [
        "# Part 5: Defining the CNN model\n",
        "model = tf.keras.models.Sequential([\n",
        "    tf.keras.layers.Conv2D(64, (3,3), activation='relu', input_shape=(224, 224, 3), padding='same'),\n",
        "    tf.keras.layers.BatchNormalization(),\n",
        "    tf.keras.layers.MaxPooling2D((2,2)),\n",
        "\n",
        "    tf.keras.layers.Conv2D(128, (3,3), activation='relu', padding='same'),\n",
        "    tf.keras.layers.BatchNormalization(),\n",
        "    tf.keras.layers.MaxPooling2D((2,2)),\n",
        "\n",
        "    tf.keras.layers.Conv2D(256, (3,3), activation='relu', padding='same'),\n",
        "    tf.keras.layers.BatchNormalization(),\n",
        "    tf.keras.layers.MaxPooling2D((2,2)),\n",
        "\n",
        "    tf.keras.layers.Conv2D(512, (3,3), activation='relu', padding='same'),\n",
        "    tf.keras.layers.BatchNormalization(),\n",
        "    tf.keras.layers.MaxPooling2D((2,2)),\n",
        "\n",
        "    tf.keras.layers.Conv2D(512, (3,3), activation='relu', padding='same'),\n",
        "    tf.keras.layers.BatchNormalization(),\n",
        "    tf.keras.layers.MaxPooling2D((2,2)),\n",
        "\n",
        "    tf.keras.layers.Flatten(),\n",
        "    tf.keras.layers.Dense(512, activation='relu'),\n",
        "    tf.keras.layers.Dense(3, activation='softmax')\n",
        "])\n",
        "model.summary()"
      ],
      "metadata": {
        "colab": {
          "base_uri": "https://localhost:8080/"
        },
        "id": "DqQwJPUDFjps",
        "outputId": "4502a9ac-ede9-418a-bbe9-b0744517b83c"
      },
      "execution_count": null,
      "outputs": [
        {
          "output_type": "stream",
          "name": "stdout",
          "text": [
            "Model: \"sequential_1\"\n",
            "_________________________________________________________________\n",
            " Layer (type)                Output Shape              Param #   \n",
            "=================================================================\n",
            " conv2d_5 (Conv2D)           (None, 224, 224, 64)      1792      \n",
            "                                                                 \n",
            " batch_normalization_5 (Bat  (None, 224, 224, 64)      256       \n",
            " chNormalization)                                                \n",
            "                                                                 \n",
            " max_pooling2d_5 (MaxPoolin  (None, 112, 112, 64)      0         \n",
            " g2D)                                                            \n",
            "                                                                 \n",
            " conv2d_6 (Conv2D)           (None, 112, 112, 128)     73856     \n",
            "                                                                 \n",
            " batch_normalization_6 (Bat  (None, 112, 112, 128)     512       \n",
            " chNormalization)                                                \n",
            "                                                                 \n",
            " max_pooling2d_6 (MaxPoolin  (None, 56, 56, 128)       0         \n",
            " g2D)                                                            \n",
            "                                                                 \n",
            " conv2d_7 (Conv2D)           (None, 56, 56, 256)       295168    \n",
            "                                                                 \n",
            " batch_normalization_7 (Bat  (None, 56, 56, 256)       1024      \n",
            " chNormalization)                                                \n",
            "                                                                 \n",
            " max_pooling2d_7 (MaxPoolin  (None, 28, 28, 256)       0         \n",
            " g2D)                                                            \n",
            "                                                                 \n",
            " conv2d_8 (Conv2D)           (None, 28, 28, 512)       1180160   \n",
            "                                                                 \n",
            " batch_normalization_8 (Bat  (None, 28, 28, 512)       2048      \n",
            " chNormalization)                                                \n",
            "                                                                 \n",
            " max_pooling2d_8 (MaxPoolin  (None, 14, 14, 512)       0         \n",
            " g2D)                                                            \n",
            "                                                                 \n",
            " conv2d_9 (Conv2D)           (None, 14, 14, 512)       2359808   \n",
            "                                                                 \n",
            " batch_normalization_9 (Bat  (None, 14, 14, 512)       2048      \n",
            " chNormalization)                                                \n",
            "                                                                 \n",
            " max_pooling2d_9 (MaxPoolin  (None, 7, 7, 512)         0         \n",
            " g2D)                                                            \n",
            "                                                                 \n",
            " flatten_1 (Flatten)         (None, 25088)             0         \n",
            "                                                                 \n",
            " dense_2 (Dense)             (None, 512)               12845568  \n",
            "                                                                 \n",
            " dense_3 (Dense)             (None, 3)                 1539      \n",
            "                                                                 \n",
            "=================================================================\n",
            "Total params: 16763779 (63.95 MB)\n",
            "Trainable params: 16760835 (63.94 MB)\n",
            "Non-trainable params: 2944 (11.50 KB)\n",
            "_________________________________________________________________\n"
          ]
        }
      ]
    },
    {
      "cell_type": "code",
      "execution_count": null,
      "metadata": {
        "colab": {
          "base_uri": "https://localhost:8080/"
        },
        "id": "WZ6Us8sWWdmy",
        "outputId": "ec8e9439-f0a0-4666-acbc-409066ad89db"
      },
      "outputs": [
        {
          "name": "stdout",
          "output_type": "stream",
          "text": [
            "Epoch 1/30\n",
            "88/88 [==============================] - 83s 794ms/step - loss: 4.3239 - accuracy: 0.8492 - val_loss: 4.2217 - val_accuracy: 0.3872\n",
            "Epoch 2/30\n",
            "88/88 [==============================] - 65s 739ms/step - loss: 0.1567 - accuracy: 0.9433 - val_loss: 1.3133 - val_accuracy: 0.6576\n",
            "Epoch 3/30\n",
            "88/88 [==============================] - 63s 720ms/step - loss: 0.1119 - accuracy: 0.9588 - val_loss: 0.3392 - val_accuracy: 0.8731\n",
            "Epoch 4/30\n",
            "88/88 [==============================] - 63s 719ms/step - loss: 0.0543 - accuracy: 0.9811 - val_loss: 0.1616 - val_accuracy: 0.9456\n",
            "Epoch 5/30\n",
            "88/88 [==============================] - 63s 711ms/step - loss: 0.0415 - accuracy: 0.9864 - val_loss: 0.1784 - val_accuracy: 0.9552\n",
            "Epoch 6/30\n",
            "88/88 [==============================] - 63s 714ms/step - loss: 0.0364 - accuracy: 0.9880 - val_loss: 0.1086 - val_accuracy: 0.9691\n",
            "Epoch 7/30\n",
            "88/88 [==============================] - 63s 715ms/step - loss: 0.0410 - accuracy: 0.9875 - val_loss: 0.2277 - val_accuracy: 0.9429\n",
            "Epoch 8/30\n",
            "88/88 [==============================] - 62s 705ms/step - loss: 0.0191 - accuracy: 0.9937 - val_loss: 0.1136 - val_accuracy: 0.9701\n",
            "Epoch 9/30\n",
            "88/88 [==============================] - 62s 708ms/step - loss: 0.0071 - accuracy: 0.9987 - val_loss: 0.0821 - val_accuracy: 0.9771\n",
            "Epoch 10/30\n",
            "88/88 [==============================] - 65s 742ms/step - loss: 0.0051 - accuracy: 0.9990 - val_loss: 0.0951 - val_accuracy: 0.9744\n",
            "Epoch 11/30\n",
            "88/88 [==============================] - 64s 724ms/step - loss: 0.0029 - accuracy: 0.9996 - val_loss: 0.1161 - val_accuracy: 0.9728\n",
            "Epoch 12/30\n",
            "88/88 [==============================] - 64s 723ms/step - loss: 0.0050 - accuracy: 0.9986 - val_loss: 0.1074 - val_accuracy: 0.9723\n",
            "Epoch 13/30\n",
            "88/88 [==============================] - 62s 708ms/step - loss: 0.0116 - accuracy: 0.9964 - val_loss: 0.1368 - val_accuracy: 0.9701\n",
            "Epoch 14/30\n",
            "88/88 [==============================] - 63s 714ms/step - loss: 0.0243 - accuracy: 0.9929 - val_loss: 0.1381 - val_accuracy: 0.9605\n",
            "Epoch 15/30\n",
            "88/88 [==============================] - 64s 722ms/step - loss: 0.2277 - accuracy: 0.9622 - val_loss: 0.3630 - val_accuracy: 0.9125\n",
            "Epoch 16/30\n",
            "88/88 [==============================] - 62s 706ms/step - loss: 0.0504 - accuracy: 0.9853 - val_loss: 0.1126 - val_accuracy: 0.9616\n",
            "Epoch 17/30\n",
            "88/88 [==============================] - 63s 718ms/step - loss: 0.0227 - accuracy: 0.9929 - val_loss: 0.2234 - val_accuracy: 0.9440\n",
            "Epoch 18/30\n",
            "88/88 [==============================] - 63s 719ms/step - loss: 0.0076 - accuracy: 0.9972 - val_loss: 0.1029 - val_accuracy: 0.9712\n",
            "Epoch 19/30\n",
            "88/88 [==============================] - 64s 721ms/step - loss: 0.0024 - accuracy: 0.9996 - val_loss: 0.0854 - val_accuracy: 0.9776\n",
            "Epoch 20/30\n",
            "88/88 [==============================] - 63s 720ms/step - loss: 0.0010 - accuracy: 0.9999 - val_loss: 0.0818 - val_accuracy: 0.9787\n",
            "Epoch 21/30\n",
            "88/88 [==============================] - 63s 716ms/step - loss: 5.0149e-04 - accuracy: 1.0000 - val_loss: 0.0792 - val_accuracy: 0.9797\n",
            "Epoch 22/30\n",
            "88/88 [==============================] - 62s 702ms/step - loss: 5.1159e-04 - accuracy: 1.0000 - val_loss: 0.0794 - val_accuracy: 0.9771\n",
            "Epoch 23/30\n",
            "88/88 [==============================] - 63s 719ms/step - loss: 5.4280e-04 - accuracy: 0.9999 - val_loss: 0.0906 - val_accuracy: 0.9755\n",
            "Epoch 24/30\n",
            "88/88 [==============================] - 63s 709ms/step - loss: 3.8138e-04 - accuracy: 1.0000 - val_loss: 0.0838 - val_accuracy: 0.9771\n",
            "Epoch 25/30\n",
            "88/88 [==============================] - 62s 703ms/step - loss: 1.9626e-04 - accuracy: 1.0000 - val_loss: 0.0840 - val_accuracy: 0.9787\n",
            "Epoch 26/30\n",
            "88/88 [==============================] - 65s 733ms/step - loss: 1.7793e-04 - accuracy: 1.0000 - val_loss: 0.0841 - val_accuracy: 0.9797\n",
            "Epoch 27/30\n",
            "88/88 [==============================] - 63s 718ms/step - loss: 1.3571e-04 - accuracy: 1.0000 - val_loss: 0.0812 - val_accuracy: 0.9787\n",
            "Epoch 28/30\n",
            "88/88 [==============================] - 65s 733ms/step - loss: 1.0528e-04 - accuracy: 1.0000 - val_loss: 0.0826 - val_accuracy: 0.9792\n",
            "Epoch 29/30\n",
            "88/88 [==============================] - 62s 708ms/step - loss: 1.1044e-04 - accuracy: 1.0000 - val_loss: 0.0834 - val_accuracy: 0.9787\n",
            "Epoch 30/30\n",
            "88/88 [==============================] - 64s 728ms/step - loss: 1.6986e-04 - accuracy: 1.0000 - val_loss: 0.0866 - val_accuracy: 0.9792\n"
          ]
        }
      ],
      "source": [
        "# Part 6: Training the model\n",
        "opt = tf.keras.optimizers.SGD(learning_rate=0.001)\n",
        "model.compile(optimizer=opt, loss='categorical_crossentropy', metrics=['accuracy'])\n",
        "history = model.fit(train_set,validation_data=val_set,epochs=30)\n",
        "model.save(\"lung_cancer_model.h5\")"
      ]
    },
    {
      "cell_type": "code",
      "execution_count": null,
      "metadata": {
        "colab": {
          "base_uri": "https://localhost:8080/"
        },
        "id": "P2OsxVvoWwpw",
        "outputId": "8a436ec3-914b-4df7-dce8-d6db67f7ab51"
      },
      "outputs": [
        {
          "name": "stdout",
          "output_type": "stream",
          "text": [
            "15/15 [==============================] - 9s 564ms/step - loss: 0.0866 - accuracy: 0.9792\n",
            "Validation loss: 0.08660732954740524\n",
            "Validation accuracy: 0.979200005531311\n"
          ]
        }
      ],
      "source": [
        "# Part 7: Evaluating on the validation set\n",
        "loss, accuracy = model.evaluate(val_set)\n",
        "print('Validation loss:', loss)\n",
        "print('Validation accuracy:', accuracy)"
      ]
    },
    {
      "cell_type": "code",
      "execution_count": null,
      "metadata": {
        "colab": {
          "base_uri": "https://localhost:8080/"
        },
        "id": "uOESMrZNXeqI",
        "outputId": "58fca52f-789c-4bd1-9f51-3c920141412f"
      },
      "outputs": [
        {
          "name": "stdout",
          "output_type": "stream",
          "text": [
            "15/15 [==============================] - 8s 549ms/step - loss: 0.0551 - accuracy: 0.9861\n",
            "Test loss: 0.05508797988295555\n",
            "Test accuracy: 0.986133337020874\n"
          ]
        }
      ],
      "source": [
        "# Part 8: Evaluating on the test set\n",
        "loss, accuracy = model.evaluate(test_set)\n",
        "print('Test loss:', loss)\n",
        "print('Test accuracy:', accuracy)"
      ]
    },
    {
      "cell_type": "code",
      "execution_count": null,
      "metadata": {
        "id": "IZeWy22yXiBo"
      },
      "outputs": [],
      "source": [
        "# Part 9: Importing necessary modules for metrics\n",
        "import numpy as np\n",
        "from sklearn.metrics import confusion_matrix, precision_recall_fscore_support"
      ]
    },
    {
      "cell_type": "code",
      "execution_count": null,
      "metadata": {
        "colab": {
          "base_uri": "https://localhost:8080/",
          "height": 594
        },
        "id": "fOpWp_iHXlRI",
        "outputId": "83846863-6d48-4f1e-bee0-19d2a87ce63b"
      },
      "outputs": [
        {
          "name": "stdout",
          "output_type": "stream",
          "text": [
            "15/15 [==============================] - 8s 544ms/step\n",
            "[[612   0  13]\n",
            " [  0 625   0]\n",
            " [ 13   0 612]]\n"
          ]
        },
        {
          "data": {
            "text/plain": [
              "<Figure size 640x480 with 0 Axes>"
            ]
          },
          "metadata": {},
          "output_type": "display_data"
        },
        {
          "data": {
            "image/png": "[encoded data removed]",
            "text/plain": [
              "<Figure size 700x500 with 2 Axes>"
            ]
          },
          "metadata": {},
          "output_type": "display_data"
        }
      ],
      "source": [
        "# Part 10: Making predictions and plotting confusion matrix\n",
        "predictions = model.predict(test_set)\n",
        "y_pred = [np.argmax(probas) for probas in predictions]\n",
        "y_test = test_set.classes\n",
        "class_names = test_set.class_indices.keys()\n",
        "from sklearn.metrics import confusion_matrix, classification_report\n",
        "import itertools\n",
        "# Function to plot confusion matrix\n",
        "def plot_confusion_matrix(cm, classes, title='Confusion matrix', cmap=plt.cm.Reds):\n",
        " cm = confusion_matrix(y_test, y_pred)\n",
        " plt.figure(figsize=(7, 5))\n",
        " plt.imshow(cm, interpolation='nearest', cmap=cmap)\n",
        " plt.title(title)\n",
        " plt.colorbar()\n",
        " tick_marks = np.arange(len(classes))\n",
        " plt.xticks(tick_marks, classes, rotation=45)\n",
        " plt.yticks(tick_marks, classes)\n",
        " fmt = '.0f'\n",
        " thresh = cm.max() / 2.\n",
        " for i, j in itertools.product(range(cm.shape[0]), range(cm.shape[1])):\n",
        "  plt.text(j, i, format(cm[i, j], fmt),horizontalalignment=\"center\",color=\"white\" if cm[j, i] > thresh else \"black\")\n",
        "  plt.ylabel('True label')\n",
        "  plt.xlabel('Predicted label')\n",
        "  plt.tight_layout()\n",
        "# Compute confusion matrix\n",
        "cnf_matrix = confusion_matrix(y_test, y_pred)\n",
        "print(cnf_matrix)\n",
        "# Plot normalized confusion matrix\n",
        "plt.figure()\n",
        "plot_confusion_matrix(cnf_matrix, classes=class_names, title='Confusion matrix')\n",
        "plt.show()"
      ]
    },
    {
      "cell_type": "code",
      "execution_count": null,
      "metadata": {
        "colab": {
          "base_uri": "https://localhost:8080/"
        },
        "id": "76FKQwX7XnAi",
        "outputId": "afa1d652-6e3b-4570-ea06-57e095b45752"
      },
      "outputs": [
        {
          "name": "stdout",
          "output_type": "stream",
          "text": [
            "Precision: 0.9861333333333334\n",
            "Recall: 0.9861333333333334\n",
            "F1_score: 0.9861333333333334\n"
          ]
        }
      ],
      "source": [
        "# Part 11: Calculating precision, recall, and F1-score\n",
        "precision, recall, f1_score, _ = precision_recall_fscore_support(y_test, y_pred, average='macro')\n",
        "print(f'Precision: {precision}')\n",
        "print(f'Recall: {recall}')\n",
        "print(f'F1_score: {f1_score}')"
      ]
    }
  ],
  "metadata": {
    "accelerator": "GPU",
    "colab": {
      "gpuType": "T4",
      "provenance": []
    },
    "kernelspec": {
      "display_name": "Python 3",
      "name": "python3"
    },
    "language_info": {
      "name": "python"
    }
  },
  "nbformat": 4,
  "nbformat_minor": 0
}